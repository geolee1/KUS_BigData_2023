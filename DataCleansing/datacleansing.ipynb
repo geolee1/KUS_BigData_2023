{
 "cells": [
  {
   "cell_type": "markdown",
   "metadata": {},
   "source": [
    "# 데이터 클린징"
   ]
  },
  {
   "cell_type": "markdown",
   "metadata": {},
   "source": [
    "### 생존자 편향 (survivor bias), 표본 편향 (sample bias) 의 오류"
   ]
  },
  {
   "cell_type": "markdown",
   "metadata": {},
   "source": [
    "### 데이터 클린징"
   ]
  },
  {
   "cell_type": "markdown",
   "metadata": {},
   "source": [
    "## 결측 데이터"
   ]
  },
  {
   "cell_type": "markdown",
   "metadata": {},
   "source": [
    "### 결측 데이터의 처리"
   ]
  },
  {
   "cell_type": "markdown",
   "metadata": {},
   "source": [
    "### 결측 데이터"
   ]
  },
  {
   "cell_type": "markdown",
   "metadata": {},
   "source": [
    "### 결측치의 확인"
   ]
  },
  {
   "cell_type": "code",
   "execution_count": 2,
   "metadata": {},
   "outputs": [
    {
     "ename": "TypeError",
     "evalue": "isna() missing 1 required positional argument: 'obj'",
     "output_type": "error",
     "traceback": [
      "\u001b[1;31m---------------------------------------------------------------------------\u001b[0m",
      "\u001b[1;31mTypeError\u001b[0m                                 Traceback (most recent call last)",
      "\u001b[1;32mg:\\다른 컴퓨터\\내 컴퓨터\\korea_univ\\2023fall\\bigdata\\DataCleansing\\datacleansing.ipynb Cell 8\u001b[0m line \u001b[0;36m2\n\u001b[0;32m      <a href='vscode-notebook-cell:/g%3A/%EB%8B%A4%EB%A5%B8%20%EC%BB%B4%ED%93%A8%ED%84%B0/%EB%82%B4%20%EC%BB%B4%ED%93%A8%ED%84%B0/korea_univ/2023fall/bigdata/DataCleansing/datacleansing.ipynb#X41sZmlsZQ%3D%3D?line=0'>1</a>\u001b[0m \u001b[39mimport\u001b[39;00m \u001b[39mpandas\u001b[39;00m \u001b[39mas\u001b[39;00m \u001b[39mpd\u001b[39;00m\n\u001b[1;32m----> <a href='vscode-notebook-cell:/g%3A/%EB%8B%A4%EB%A5%B8%20%EC%BB%B4%ED%93%A8%ED%84%B0/%EB%82%B4%20%EC%BB%B4%ED%93%A8%ED%84%B0/korea_univ/2023fall/bigdata/DataCleansing/datacleansing.ipynb#X41sZmlsZQ%3D%3D?line=1'>2</a>\u001b[0m pd\u001b[39m.\u001b[39;49misnull()\n",
      "\u001b[1;31mTypeError\u001b[0m: isna() missing 1 required positional argument: 'obj'"
     ]
    }
   ],
   "source": [
    "import pandas as pd\n",
    "pd.isnull()"
   ]
  },
  {
   "cell_type": "code",
   "execution_count": 3,
   "metadata": {},
   "outputs": [
    {
     "ename": "TypeError",
     "evalue": "notna() missing 1 required positional argument: 'obj'",
     "output_type": "error",
     "traceback": [
      "\u001b[1;31m---------------------------------------------------------------------------\u001b[0m",
      "\u001b[1;31mTypeError\u001b[0m                                 Traceback (most recent call last)",
      "\u001b[1;32mg:\\다른 컴퓨터\\내 컴퓨터\\korea_univ\\2023fall\\bigdata\\DataCleansing\\datacleansing.ipynb Cell 9\u001b[0m line \u001b[0;36m2\n\u001b[0;32m      <a href='vscode-notebook-cell:/g%3A/%EB%8B%A4%EB%A5%B8%20%EC%BB%B4%ED%93%A8%ED%84%B0/%EB%82%B4%20%EC%BB%B4%ED%93%A8%ED%84%B0/korea_univ/2023fall/bigdata/DataCleansing/datacleansing.ipynb#X42sZmlsZQ%3D%3D?line=0'>1</a>\u001b[0m \u001b[39mimport\u001b[39;00m \u001b[39mpandas\u001b[39;00m \u001b[39mas\u001b[39;00m \u001b[39mpd\u001b[39;00m\n\u001b[1;32m----> <a href='vscode-notebook-cell:/g%3A/%EB%8B%A4%EB%A5%B8%20%EC%BB%B4%ED%93%A8%ED%84%B0/%EB%82%B4%20%EC%BB%B4%ED%93%A8%ED%84%B0/korea_univ/2023fall/bigdata/DataCleansing/datacleansing.ipynb#X42sZmlsZQ%3D%3D?line=1'>2</a>\u001b[0m pd\u001b[39m.\u001b[39;49mnotnull()\n",
      "\u001b[1;31mTypeError\u001b[0m: notna() missing 1 required positional argument: 'obj'"
     ]
    }
   ],
   "source": [
    "import pandas as pd\n",
    "pd.notnull()"
   ]
  },
  {
   "cell_type": "markdown",
   "metadata": {},
   "source": [
    "### 결측치의 갯수"
   ]
  },
  {
   "cell_type": "code",
   "execution_count": 10,
   "metadata": {},
   "outputs": [
    {
     "data": {
      "text/plain": [
       "Series([], dtype: float64)"
      ]
     },
     "execution_count": 10,
     "metadata": {},
     "output_type": "execute_result"
    }
   ],
   "source": [
    "import pandas as pd\n",
    "df = pd.DataFrame()\n",
    "\n",
    "df.isnull().sum()   # 컬럼별 결측값 개수 구하기\n",
    "df.isnull().sum(1)  # 행 단위로 결측값 개수 구하기\n",
    "df.notnull().sum(1) # 행 단위로 실제값 개수 구하기"
   ]
  },
  {
   "cell_type": "markdown",
   "metadata": {},
   "source": [
    "### 결측치의 탐지"
   ]
  },
  {
   "cell_type": "code",
   "execution_count": 17,
   "metadata": {},
   "outputs": [
    {
     "name": "stdout",
     "output_type": "stream",
     "text": [
      "            평균기온(°C)  최대 풍속(m/s)  평균 풍속(m/s)\n",
      "일시                                          \n",
      "2012-02-11      -0.7         NaN         NaN\n",
      "2012-02-12       0.4         NaN         NaN\n",
      "2012-02-13       4.0         NaN         NaN\n",
      "2015-03-22      10.1        11.6         NaN\n",
      "2015-04-01       7.3        12.1         NaN\n",
      "2019-04-18      15.7        11.7         NaN\n"
     ]
    }
   ],
   "source": [
    "import pandas as pd\n",
    "\n",
    "weather = pd.read_csv(\"weather.csv\", index_col=0, encoding=\"cp949\")\n",
    "missing_data = weather [ weather['평균 풍속(m/s)'].isna() ]\n",
    "print(missing_data)"
   ]
  },
  {
   "cell_type": "markdown",
   "metadata": {},
   "source": [
    "### 결측치의 제거"
   ]
  },
  {
   "cell_type": "code",
   "execution_count": 19,
   "metadata": {},
   "outputs": [],
   "source": [
    "# pd.DataFrame.dropna(axis=0, how='any', inplace=False)\n",
    "weather.dropna(axis=0, how='any', inplace=True)\n",
    "weather.loc['2012-02-11']   # 결측 데이터가 있던 행이 삭제되었음을 확인"
   ]
  },
  {
   "cell_type": "markdown",
   "metadata": {},
   "source": [
    "### 결측치의 대체"
   ]
  },
  {
   "cell_type": "code",
   "execution_count": 25,
   "metadata": {},
   "outputs": [
    {
     "data": {
      "text/html": [
       "<div>\n",
       "<style scoped>\n",
       "    .dataframe tbody tr th:only-of-type {\n",
       "        vertical-align: middle;\n",
       "    }\n",
       "\n",
       "    .dataframe tbody tr th {\n",
       "        vertical-align: top;\n",
       "    }\n",
       "\n",
       "    .dataframe thead th {\n",
       "        text-align: right;\n",
       "    }\n",
       "</style>\n",
       "<table border=\"1\" class=\"dataframe\">\n",
       "  <thead>\n",
       "    <tr style=\"text-align: right;\">\n",
       "      <th></th>\n",
       "    </tr>\n",
       "  </thead>\n",
       "  <tbody>\n",
       "  </tbody>\n",
       "</table>\n",
       "</div>"
      ],
      "text/plain": [
       "Empty DataFrame\n",
       "Columns: []\n",
       "Index: []"
      ]
     },
     "execution_count": 25,
     "metadata": {},
     "output_type": "execute_result"
    }
   ],
   "source": [
    "import pandas as pd\n",
    "df = pd.DataFrame()\n",
    "\n",
    "df.fillna(0)            # 결측값을 특정 값으로 채우기\n",
    "df.fillna(' ')          # 결측값을 특정 문자열로 채우기\n",
    "df.fillna(df.mean())    # 결측값을 변수별 평균으로 대체"
   ]
  },
  {
   "cell_type": "code",
   "execution_count": 22,
   "metadata": {},
   "outputs": [
    {
     "name": "stdout",
     "output_type": "stream",
     "text": [
      "평균기온(°C)     -0.7\n",
      "최대 풍속(m/s)    0.0\n",
      "평균 풍속(m/s)    0.0\n",
      "Name: 2012-02-11, dtype: float64\n"
     ]
    }
   ],
   "source": [
    "import pandas as pd\n",
    "\n",
    "weather = pd.read_csv(\"weather.csv\", index_col=0, encoding=\"cp949\")\n",
    "weather.fillna(0, inplace=True)     # 결손값을 0으로 채움, inplace를 True로 설정해 원본 데이터를 수정\n",
    "\n",
    "print(weather.loc['2012-02-11'])   # 결측 데이터가 0으로 대체되었음을 확인"
   ]
  },
  {
   "cell_type": "code",
   "execution_count": 24,
   "metadata": {},
   "outputs": [
    {
     "name": "stdout",
     "output_type": "stream",
     "text": [
      "평균기온(°C)     -0.700000\n",
      "최대 풍속(m/s)    3.936441\n",
      "평균 풍속(m/s)    3.936441\n",
      "Name: 2012-02-11, dtype: float64\n"
     ]
    }
   ],
   "source": [
    "import pandas as pd\n",
    "\n",
    "weather = pd.read_csv(\"weather.csv\", index_col=0, encoding=\"cp949\")\n",
    "weather.fillna( weather['평균 풍속(m/s)'].mean(), inplace=True )   # 결손값을 평균값으로 채움\n",
    "print(weather.loc['2012-02-11'])   # 결측 데이터가 평균값으로 대체되었음을 확인"
   ]
  },
  {
   "cell_type": "markdown",
   "metadata": {},
   "source": [
    "### 결측 데이터의 유의사향"
   ]
  },
  {
   "cell_type": "markdown",
   "metadata": {},
   "source": [
    "## 이상 데이터"
   ]
  },
  {
   "cell_type": "markdown",
   "metadata": {},
   "source": [
    "### 이상 데이터"
   ]
  },
  {
   "cell_type": "markdown",
   "metadata": {},
   "source": [
    "### 이상 데이터 활용 분야"
   ]
  },
  {
   "cell_type": "markdown",
   "metadata": {},
   "source": [
    "### 이상 데이터의 처리"
   ]
  },
  {
   "cell_type": "markdown",
   "metadata": {},
   "source": [
    "### 이상 데이터의 시각화"
   ]
  },
  {
   "cell_type": "code",
   "execution_count": 39,
   "metadata": {},
   "outputs": [
    {
     "data": {
      "image/png": "[encoded data removed]",
      "text/plain": [
       "<Figure size 640x480 with 1 Axes>"
      ]
     },
     "metadata": {},
     "output_type": "display_data"
    }
   ],
   "source": [
    "import matplotlib.pyplot as plt\n",
    "\n",
    "data = [-4, 1, 2, 3, 4, 5, 10]\n",
    "\n",
    "plt.boxplot(data)\n",
    "plt.show()"
   ]
  },
  {
   "cell_type": "markdown",
   "metadata": {},
   "source": [
    "### 이상 데이터 탐색(예)"
   ]
  },
  {
   "cell_type": "code",
   "execution_count": 41,
   "metadata": {},
   "outputs": [],
   "source": [
    "import pandas as pd\n",
    "file_path = \"./bicycle_out.csv\"\n",
    "df = pd.read_csv(file_path, encoding=\"cp949\")"
   ]
  },
  {
   "cell_type": "code",
   "execution_count": 42,
   "metadata": {},
   "outputs": [
    {
     "data": {
      "image/png": "[encoded data removed]",
      "text/plain": [
       "<Figure size 640x480 with 1 Axes>"
      ]
     },
     "metadata": {},
     "output_type": "display_data"
    }
   ],
   "source": [
    "import matplotlib.pylab as plt\n",
    "plt.boxplot(df['나이'])\n",
    "plt.show()"
   ]
  },
  {
   "cell_type": "code",
   "execution_count": 50,
   "metadata": {},
   "outputs": [
    {
     "data": {
      "text/html": [
       "<div>\n",
       "<style scoped>\n",
       "    .dataframe tbody tr th:only-of-type {\n",
       "        vertical-align: middle;\n",
       "    }\n",
       "\n",
       "    .dataframe tbody tr th {\n",
       "        vertical-align: top;\n",
       "    }\n",
       "\n",
       "    .dataframe thead th {\n",
       "        text-align: right;\n",
       "    }\n",
       "</style>\n",
       "<table border=\"1\" class=\"dataframe\">\n",
       "  <thead>\n",
       "    <tr style=\"text-align: right;\">\n",
       "      <th></th>\n",
       "      <th>자전거번호</th>\n",
       "      <th>대여일시</th>\n",
       "      <th>대여소번호</th>\n",
       "      <th>대여소명</th>\n",
       "      <th>대여거치대</th>\n",
       "      <th>반납일시</th>\n",
       "      <th>반납대여소번호</th>\n",
       "      <th>반납대여소명</th>\n",
       "      <th>반납거치대</th>\n",
       "      <th>이용시간</th>\n",
       "      <th>이용거리</th>\n",
       "      <th>나이</th>\n",
       "    </tr>\n",
       "  </thead>\n",
       "  <tbody>\n",
       "    <tr>\n",
       "      <th>4</th>\n",
       "      <td>SPB-07935</td>\n",
       "      <td>2019-11-05 12:29</td>\n",
       "      <td>512</td>\n",
       "      <td>뚝섬역 1번 출구 옆</td>\n",
       "      <td>11.0</td>\n",
       "      <td>2019-11-05 12:39</td>\n",
       "      <td>3</td>\n",
       "      <td>중랑센터</td>\n",
       "      <td>7.0</td>\n",
       "      <td>10.0</td>\n",
       "      <td>1650.0</td>\n",
       "      <td>120</td>\n",
       "    </tr>\n",
       "    <tr>\n",
       "      <th>30</th>\n",
       "      <td>SPB-20840</td>\n",
       "      <td>2019-11-28 8:32</td>\n",
       "      <td>419</td>\n",
       "      <td>홈플러스 앞</td>\n",
       "      <td>1.0</td>\n",
       "      <td>2019-11-28 8:35</td>\n",
       "      <td>5</td>\n",
       "      <td>상암센터 정비실</td>\n",
       "      <td>5.0</td>\n",
       "      <td>3.0</td>\n",
       "      <td>280.0</td>\n",
       "      <td>533</td>\n",
       "    </tr>\n",
       "    <tr>\n",
       "      <th>47</th>\n",
       "      <td>SPB-11637</td>\n",
       "      <td>2019-11-01 15:35</td>\n",
       "      <td>103</td>\n",
       "      <td>망원역 2번출구 앞</td>\n",
       "      <td>4.0</td>\n",
       "      <td>2019-11-01 15:41</td>\n",
       "      <td>101</td>\n",
       "      <td>(구)합정동 주민센터</td>\n",
       "      <td>2.0</td>\n",
       "      <td>5.0</td>\n",
       "      <td>1110.0</td>\n",
       "      <td>320</td>\n",
       "    </tr>\n",
       "    <tr>\n",
       "      <th>86</th>\n",
       "      <td>SPB-04854</td>\n",
       "      <td>2019-11-02 19:52</td>\n",
       "      <td>101</td>\n",
       "      <td>(구)합정동 주민센터</td>\n",
       "      <td>5.0</td>\n",
       "      <td>2019-11-02 21:01</td>\n",
       "      <td>101</td>\n",
       "      <td>(구)합정동 주민센터</td>\n",
       "      <td>2.0</td>\n",
       "      <td>NaN</td>\n",
       "      <td>2300.0</td>\n",
       "      <td>220</td>\n",
       "    </tr>\n",
       "  </tbody>\n",
       "</table>\n",
       "</div>"
      ],
      "text/plain": [
       "        자전거번호              대여일시  대여소번호         대여소명  대여거치대              반납일시  \\\n",
       "4   SPB-07935  2019-11-05 12:29    512  뚝섬역 1번 출구 옆   11.0  2019-11-05 12:39   \n",
       "30  SPB-20840   2019-11-28 8:32    419       홈플러스 앞    1.0   2019-11-28 8:35   \n",
       "47  SPB-11637  2019-11-01 15:35    103   망원역 2번출구 앞    4.0  2019-11-01 15:41   \n",
       "86  SPB-04854  2019-11-02 19:52    101  (구)합정동 주민센터    5.0  2019-11-02 21:01   \n",
       "\n",
       "    반납대여소번호       반납대여소명  반납거치대  이용시간    이용거리   나이  \n",
       "4         3         중랑센터    7.0  10.0  1650.0  120  \n",
       "30        5     상암센터 정비실    5.0   3.0   280.0  533  \n",
       "47      101  (구)합정동 주민센터    2.0   5.0  1110.0  320  \n",
       "86      101  (구)합정동 주민센터    2.0   NaN  2300.0  220  "
      ]
     },
     "execution_count": 50,
     "metadata": {},
     "output_type": "execute_result"
    }
   ],
   "source": [
    "df_corr = df[df['나이'] > 70]\n",
    "df_corr"
   ]
  },
  {
   "cell_type": "markdown",
   "metadata": {},
   "source": [
    "### 이상 데이터 삭제(예)"
   ]
  },
  {
   "cell_type": "code",
   "execution_count": 52,
   "metadata": {},
   "outputs": [],
   "source": [
    "df1 = df.drop([4, 30, 47, 86])"
   ]
  },
  {
   "cell_type": "code",
   "execution_count": 53,
   "metadata": {},
   "outputs": [
    {
     "data": {
      "image/png": "[encoded data removed]",
      "text/plain": [
       "<Figure size 640x480 with 1 Axes>"
      ]
     },
     "metadata": {},
     "output_type": "display_data"
    }
   ],
   "source": [
    "plt.boxplot(df1['나이'])\n",
    "plt.show()"
   ]
  },
  {
   "cell_type": "code",
   "execution_count": 54,
   "metadata": {},
   "outputs": [
    {
     "data": {
      "text/plain": [
       "Index([4, 30, 47, 86, 123, 148, 221, 263, 294, 361, 362, 363], dtype='int64')"
      ]
     },
     "execution_count": 54,
     "metadata": {},
     "output_type": "execute_result"
    }
   ],
   "source": [
    "df[df['나이'] > 62].index"
   ]
  },
  {
   "cell_type": "code",
   "execution_count": 55,
   "metadata": {},
   "outputs": [],
   "source": [
    "df2 = df.drop(df[df['나이'] > 62].index)"
   ]
  },
  {
   "cell_type": "code",
   "execution_count": 56,
   "metadata": {},
   "outputs": [
    {
     "data": {
      "image/png": "[encoded data removed]",
      "text/plain": [
       "<Figure size 640x480 with 1 Axes>"
      ]
     },
     "metadata": {},
     "output_type": "display_data"
    }
   ],
   "source": [
    "plt.boxplot(df2['나이'])\n",
    "plt.show()"
   ]
  },
  {
   "cell_type": "markdown",
   "metadata": {},
   "source": [
    "### 이상 데이터의 처리 방법"
   ]
  },
  {
   "cell_type": "markdown",
   "metadata": {},
   "source": [
    "## 중복 데이터"
   ]
  },
  {
   "cell_type": "markdown",
   "metadata": {},
   "source": [
    "### 중복 데이터"
   ]
  },
  {
   "cell_type": "markdown",
   "metadata": {},
   "source": [
    "### 중복 데이터의 처리 방법"
   ]
  },
  {
   "cell_type": "markdown",
   "metadata": {},
   "source": [
    "### 중복 데이터의 처리"
   ]
  },
  {
   "cell_type": "markdown",
   "metadata": {},
   "source": [
    "### 중복 데이터 확인(예)"
   ]
  },
  {
   "cell_type": "code",
   "execution_count": 57,
   "metadata": {},
   "outputs": [],
   "source": [
    "import pandas as pd\n",
    "file_path = \"./bicycle_dup.csv\"\n",
    "df = pd.read_csv(file_path, encoding=\"cp949\")"
   ]
  },
  {
   "cell_type": "code",
   "execution_count": 58,
   "metadata": {},
   "outputs": [
    {
     "data": {
      "text/plain": [
       "Index([  1,   6,   7,  11,  12,  16,  17,  20,  22,  23,\n",
       "       ...\n",
       "       402, 403, 405, 408, 409, 411, 412, 416, 417, 418],\n",
       "      dtype='int64', length=163)"
      ]
     },
     "execution_count": 58,
     "metadata": {},
     "output_type": "execute_result"
    }
   ],
   "source": [
    "df[df.duplicated(['이용거리'])].index"
   ]
  },
  {
   "cell_type": "markdown",
   "metadata": {},
   "source": [
    "### 중복 데이터 제거(예)"
   ]
  },
  {
   "cell_type": "code",
   "execution_count": 59,
   "metadata": {},
   "outputs": [
    {
     "data": {
      "text/html": [
       "<div>\n",
       "<style scoped>\n",
       "    .dataframe tbody tr th:only-of-type {\n",
       "        vertical-align: middle;\n",
       "    }\n",
       "\n",
       "    .dataframe tbody tr th {\n",
       "        vertical-align: top;\n",
       "    }\n",
       "\n",
       "    .dataframe thead th {\n",
       "        text-align: right;\n",
       "    }\n",
       "</style>\n",
       "<table border=\"1\" class=\"dataframe\">\n",
       "  <thead>\n",
       "    <tr style=\"text-align: right;\">\n",
       "      <th></th>\n",
       "      <th>자전거번호</th>\n",
       "      <th>대여일시</th>\n",
       "      <th>대여소번호</th>\n",
       "      <th>대여소명</th>\n",
       "      <th>대여거치대</th>\n",
       "      <th>반납일시</th>\n",
       "      <th>반납대여소번호</th>\n",
       "      <th>반납대여소명</th>\n",
       "      <th>반납거치대</th>\n",
       "      <th>이용시간</th>\n",
       "      <th>이용거리</th>\n",
       "      <th>나이</th>\n",
       "    </tr>\n",
       "  </thead>\n",
       "  <tbody>\n",
       "    <tr>\n",
       "      <th>0</th>\n",
       "      <td>SPB-23220</td>\n",
       "      <td>2019-11-01 8:48</td>\n",
       "      <td>646</td>\n",
       "      <td>장한평역 1번출구 (국민은행앞)</td>\n",
       "      <td>3.0</td>\n",
       "      <td>2019-11-01 9:01</td>\n",
       "      <td>3</td>\n",
       "      <td>중랑센터</td>\n",
       "      <td>7.0</td>\n",
       "      <td>12.0</td>\n",
       "      <td>1100.0</td>\n",
       "      <td>50</td>\n",
       "    </tr>\n",
       "    <tr>\n",
       "      <th>2</th>\n",
       "      <td>SPB-21097</td>\n",
       "      <td>2019-11-04 8:46</td>\n",
       "      <td>646</td>\n",
       "      <td>장한평역 1번출구 (국민은행앞)</td>\n",
       "      <td>1.0</td>\n",
       "      <td>2019-11-04 8:57</td>\n",
       "      <td>3</td>\n",
       "      <td>중랑센터</td>\n",
       "      <td>7.0</td>\n",
       "      <td>10.0</td>\n",
       "      <td>NaN</td>\n",
       "      <td>32</td>\n",
       "    </tr>\n",
       "    <tr>\n",
       "      <th>3</th>\n",
       "      <td>SPB-22292</td>\n",
       "      <td>2019-11-05 8:34</td>\n",
       "      <td>646</td>\n",
       "      <td>장한평역 1번출구 (국민은행앞)</td>\n",
       "      <td>1.0</td>\n",
       "      <td>2019-11-05 8:45</td>\n",
       "      <td>3</td>\n",
       "      <td>중랑센터</td>\n",
       "      <td>NaN</td>\n",
       "      <td>10.0</td>\n",
       "      <td>1380.0</td>\n",
       "      <td>21</td>\n",
       "    </tr>\n",
       "    <tr>\n",
       "      <th>4</th>\n",
       "      <td>SPB-07935</td>\n",
       "      <td>2019-11-05 12:29</td>\n",
       "      <td>512</td>\n",
       "      <td>뚝섬역 1번 출구 옆</td>\n",
       "      <td>11.0</td>\n",
       "      <td>2019-11-05 12:39</td>\n",
       "      <td>3</td>\n",
       "      <td>중랑센터</td>\n",
       "      <td>7.0</td>\n",
       "      <td>10.0</td>\n",
       "      <td>1650.0</td>\n",
       "      <td>120</td>\n",
       "    </tr>\n",
       "    <tr>\n",
       "      <th>5</th>\n",
       "      <td>SPB-18401</td>\n",
       "      <td>2019-11-06 8:52</td>\n",
       "      <td>646</td>\n",
       "      <td>장한평역 1번출구 (국민은행앞)</td>\n",
       "      <td>1.0</td>\n",
       "      <td>2019-11-06 9:09</td>\n",
       "      <td>3</td>\n",
       "      <td>중랑센터</td>\n",
       "      <td>7.0</td>\n",
       "      <td>11.0</td>\n",
       "      <td>1350.0</td>\n",
       "      <td>30</td>\n",
       "    </tr>\n",
       "    <tr>\n",
       "      <th>...</th>\n",
       "      <td>...</td>\n",
       "      <td>...</td>\n",
       "      <td>...</td>\n",
       "      <td>...</td>\n",
       "      <td>...</td>\n",
       "      <td>...</td>\n",
       "      <td>...</td>\n",
       "      <td>...</td>\n",
       "      <td>...</td>\n",
       "      <td>...</td>\n",
       "      <td>...</td>\n",
       "      <td>...</td>\n",
       "    </tr>\n",
       "    <tr>\n",
       "      <th>410</th>\n",
       "      <td>SPB-18614</td>\n",
       "      <td>2019-11-14 23:07</td>\n",
       "      <td>391</td>\n",
       "      <td>정동길입구</td>\n",
       "      <td>5.0</td>\n",
       "      <td>2019-11-14 23:49</td>\n",
       "      <td>101</td>\n",
       "      <td>(구)합정동 주민센터</td>\n",
       "      <td>3.0</td>\n",
       "      <td>40.0</td>\n",
       "      <td>7510.0</td>\n",
       "      <td>28</td>\n",
       "    </tr>\n",
       "    <tr>\n",
       "      <th>413</th>\n",
       "      <td>SPB-25161</td>\n",
       "      <td>2019-11-15 3:13</td>\n",
       "      <td>106</td>\n",
       "      <td>합정역 7번출구 앞</td>\n",
       "      <td>6.0</td>\n",
       "      <td>2019-11-15 3:18</td>\n",
       "      <td>101</td>\n",
       "      <td>(구)합정동 주민센터</td>\n",
       "      <td>1.0</td>\n",
       "      <td>3.0</td>\n",
       "      <td>640.0</td>\n",
       "      <td>21</td>\n",
       "    </tr>\n",
       "    <tr>\n",
       "      <th>414</th>\n",
       "      <td>SPB-24515</td>\n",
       "      <td>2019-11-15 3:58</td>\n",
       "      <td>112</td>\n",
       "      <td>극동방송국 앞</td>\n",
       "      <td>1.0</td>\n",
       "      <td>2019-11-15 4:08</td>\n",
       "      <td>101</td>\n",
       "      <td>(구)합정동 주민센터</td>\n",
       "      <td>1.0</td>\n",
       "      <td>9.0</td>\n",
       "      <td>1620.0</td>\n",
       "      <td>21</td>\n",
       "    </tr>\n",
       "    <tr>\n",
       "      <th>415</th>\n",
       "      <td>SPB-12116</td>\n",
       "      <td>2019-11-15 4:22</td>\n",
       "      <td>112</td>\n",
       "      <td>극동방송국 앞</td>\n",
       "      <td>5.0</td>\n",
       "      <td>2019-11-15 4:33</td>\n",
       "      <td>101</td>\n",
       "      <td>(구)합정동 주민센터</td>\n",
       "      <td>1.0</td>\n",
       "      <td>11.0</td>\n",
       "      <td>2200.0</td>\n",
       "      <td>22</td>\n",
       "    </tr>\n",
       "    <tr>\n",
       "      <th>419</th>\n",
       "      <td>SPB-17570</td>\n",
       "      <td>2019-11-15 22:16</td>\n",
       "      <td>391</td>\n",
       "      <td>정동길입구</td>\n",
       "      <td>7.0</td>\n",
       "      <td>2019-11-15 23:04</td>\n",
       "      <td>101</td>\n",
       "      <td>(구)합정동 주민센터</td>\n",
       "      <td>5.0</td>\n",
       "      <td>48.0</td>\n",
       "      <td>8100.0</td>\n",
       "      <td>28</td>\n",
       "    </tr>\n",
       "  </tbody>\n",
       "</table>\n",
       "<p>257 rows × 12 columns</p>\n",
       "</div>"
      ],
      "text/plain": [
       "         자전거번호              대여일시  대여소번호               대여소명  대여거치대  \\\n",
       "0    SPB-23220   2019-11-01 8:48    646  장한평역 1번출구 (국민은행앞)    3.0   \n",
       "2    SPB-21097   2019-11-04 8:46    646  장한평역 1번출구 (국민은행앞)    1.0   \n",
       "3    SPB-22292   2019-11-05 8:34    646  장한평역 1번출구 (국민은행앞)    1.0   \n",
       "4    SPB-07935  2019-11-05 12:29    512        뚝섬역 1번 출구 옆   11.0   \n",
       "5    SPB-18401   2019-11-06 8:52    646  장한평역 1번출구 (국민은행앞)    1.0   \n",
       "..         ...               ...    ...                ...    ...   \n",
       "410  SPB-18614  2019-11-14 23:07    391              정동길입구    5.0   \n",
       "413  SPB-25161   2019-11-15 3:13    106         합정역 7번출구 앞    6.0   \n",
       "414  SPB-24515   2019-11-15 3:58    112            극동방송국 앞    1.0   \n",
       "415  SPB-12116   2019-11-15 4:22    112            극동방송국 앞    5.0   \n",
       "419  SPB-17570  2019-11-15 22:16    391              정동길입구    7.0   \n",
       "\n",
       "                 반납일시  반납대여소번호       반납대여소명  반납거치대  이용시간    이용거리   나이  \n",
       "0     2019-11-01 9:01        3         중랑센터    7.0  12.0  1100.0   50  \n",
       "2     2019-11-04 8:57        3         중랑센터    7.0  10.0     NaN   32  \n",
       "3     2019-11-05 8:45        3         중랑센터    NaN  10.0  1380.0   21  \n",
       "4    2019-11-05 12:39        3         중랑센터    7.0  10.0  1650.0  120  \n",
       "5     2019-11-06 9:09        3         중랑센터    7.0  11.0  1350.0   30  \n",
       "..                ...      ...          ...    ...   ...     ...  ...  \n",
       "410  2019-11-14 23:49      101  (구)합정동 주민센터    3.0  40.0  7510.0   28  \n",
       "413   2019-11-15 3:18      101  (구)합정동 주민센터    1.0   3.0   640.0   21  \n",
       "414   2019-11-15 4:08      101  (구)합정동 주민센터    1.0   9.0  1620.0   21  \n",
       "415   2019-11-15 4:33      101  (구)합정동 주민센터    1.0  11.0  2200.0   22  \n",
       "419  2019-11-15 23:04      101  (구)합정동 주민센터    5.0  48.0  8100.0   28  \n",
       "\n",
       "[257 rows x 12 columns]"
      ]
     },
     "execution_count": 59,
     "metadata": {},
     "output_type": "execute_result"
    }
   ],
   "source": [
    "df.drop_duplicates(['이용거리'], keep='first')"
   ]
  },
  {
   "cell_type": "markdown",
   "metadata": {},
   "source": [
    "## (참고) Data 업로드 위치와 encoding 주의"
   ]
  },
  {
   "cell_type": "code",
   "execution_count": 60,
   "metadata": {},
   "outputs": [
    {
     "ename": "FileNotFoundError",
     "evalue": "[Errno 2] No such file or directory: './bicycle.csv'",
     "output_type": "error",
     "traceback": [
      "\u001b[1;31m---------------------------------------------------------------------------\u001b[0m",
      "\u001b[1;31mFileNotFoundError\u001b[0m                         Traceback (most recent call last)",
      "\u001b[1;32mg:\\다른 컴퓨터\\내 컴퓨터\\korea_univ\\2023fall\\bigdata\\DataCleansing\\datacleansing.ipynb Cell 48\u001b[0m line \u001b[0;36m6\n\u001b[0;32m      <a href='vscode-notebook-cell:/g%3A/%EB%8B%A4%EB%A5%B8%20%EC%BB%B4%ED%93%A8%ED%84%B0/%EB%82%B4%20%EC%BB%B4%ED%93%A8%ED%84%B0/korea_univ/2023fall/bigdata/DataCleansing/datacleansing.ipynb#Y100sZmlsZQ%3D%3D?line=2'>3</a>\u001b[0m file_path \u001b[39m=\u001b[39m \u001b[39m\"\u001b[39m\u001b[39m./bicycle.csv\u001b[39m\u001b[39m\"\u001b[39m\n\u001b[0;32m      <a href='vscode-notebook-cell:/g%3A/%EB%8B%A4%EB%A5%B8%20%EC%BB%B4%ED%93%A8%ED%84%B0/%EB%82%B4%20%EC%BB%B4%ED%93%A8%ED%84%B0/korea_univ/2023fall/bigdata/DataCleansing/datacleansing.ipynb#Y100sZmlsZQ%3D%3D?line=4'>5</a>\u001b[0m \u001b[39m# read_csv() 함수로 데이터프레임 변환.\u001b[39;00m\n\u001b[1;32m----> <a href='vscode-notebook-cell:/g%3A/%EB%8B%A4%EB%A5%B8%20%EC%BB%B4%ED%93%A8%ED%84%B0/%EB%82%B4%20%EC%BB%B4%ED%93%A8%ED%84%B0/korea_univ/2023fall/bigdata/DataCleansing/datacleansing.ipynb#Y100sZmlsZQ%3D%3D?line=5'>6</a>\u001b[0m df \u001b[39m=\u001b[39m pd\u001b[39m.\u001b[39;49mread_csv(file_path, encoding\u001b[39m=\u001b[39;49m\u001b[39m\"\u001b[39;49m\u001b[39mcp949\u001b[39;49m\u001b[39m\"\u001b[39;49m)\n\u001b[0;32m      <a href='vscode-notebook-cell:/g%3A/%EB%8B%A4%EB%A5%B8%20%EC%BB%B4%ED%93%A8%ED%84%B0/%EB%82%B4%20%EC%BB%B4%ED%93%A8%ED%84%B0/korea_univ/2023fall/bigdata/DataCleansing/datacleansing.ipynb#Y100sZmlsZQ%3D%3D?line=6'>7</a>\u001b[0m df\n",
      "File \u001b[1;32mc:\\Python39\\lib\\site-packages\\pandas\\io\\parsers\\readers.py:948\u001b[0m, in \u001b[0;36mread_csv\u001b[1;34m(filepath_or_buffer, sep, delimiter, header, names, index_col, usecols, dtype, engine, converters, true_values, false_values, skipinitialspace, skiprows, skipfooter, nrows, na_values, keep_default_na, na_filter, verbose, skip_blank_lines, parse_dates, infer_datetime_format, keep_date_col, date_parser, date_format, dayfirst, cache_dates, iterator, chunksize, compression, thousands, decimal, lineterminator, quotechar, quoting, doublequote, escapechar, comment, encoding, encoding_errors, dialect, on_bad_lines, delim_whitespace, low_memory, memory_map, float_precision, storage_options, dtype_backend)\u001b[0m\n\u001b[0;32m    935\u001b[0m kwds_defaults \u001b[39m=\u001b[39m _refine_defaults_read(\n\u001b[0;32m    936\u001b[0m     dialect,\n\u001b[0;32m    937\u001b[0m     delimiter,\n\u001b[1;32m   (...)\u001b[0m\n\u001b[0;32m    944\u001b[0m     dtype_backend\u001b[39m=\u001b[39mdtype_backend,\n\u001b[0;32m    945\u001b[0m )\n\u001b[0;32m    946\u001b[0m kwds\u001b[39m.\u001b[39mupdate(kwds_defaults)\n\u001b[1;32m--> 948\u001b[0m \u001b[39mreturn\u001b[39;00m _read(filepath_or_buffer, kwds)\n",
      "File \u001b[1;32mc:\\Python39\\lib\\site-packages\\pandas\\io\\parsers\\readers.py:611\u001b[0m, in \u001b[0;36m_read\u001b[1;34m(filepath_or_buffer, kwds)\u001b[0m\n\u001b[0;32m    608\u001b[0m _validate_names(kwds\u001b[39m.\u001b[39mget(\u001b[39m\"\u001b[39m\u001b[39mnames\u001b[39m\u001b[39m\"\u001b[39m, \u001b[39mNone\u001b[39;00m))\n\u001b[0;32m    610\u001b[0m \u001b[39m# Create the parser.\u001b[39;00m\n\u001b[1;32m--> 611\u001b[0m parser \u001b[39m=\u001b[39m TextFileReader(filepath_or_buffer, \u001b[39m*\u001b[39m\u001b[39m*\u001b[39mkwds)\n\u001b[0;32m    613\u001b[0m \u001b[39mif\u001b[39;00m chunksize \u001b[39mor\u001b[39;00m iterator:\n\u001b[0;32m    614\u001b[0m     \u001b[39mreturn\u001b[39;00m parser\n",
      "File \u001b[1;32mc:\\Python39\\lib\\site-packages\\pandas\\io\\parsers\\readers.py:1448\u001b[0m, in \u001b[0;36mTextFileReader.__init__\u001b[1;34m(self, f, engine, **kwds)\u001b[0m\n\u001b[0;32m   1445\u001b[0m     \u001b[39mself\u001b[39m\u001b[39m.\u001b[39moptions[\u001b[39m\"\u001b[39m\u001b[39mhas_index_names\u001b[39m\u001b[39m\"\u001b[39m] \u001b[39m=\u001b[39m kwds[\u001b[39m\"\u001b[39m\u001b[39mhas_index_names\u001b[39m\u001b[39m\"\u001b[39m]\n\u001b[0;32m   1447\u001b[0m \u001b[39mself\u001b[39m\u001b[39m.\u001b[39mhandles: IOHandles \u001b[39m|\u001b[39m \u001b[39mNone\u001b[39;00m \u001b[39m=\u001b[39m \u001b[39mNone\u001b[39;00m\n\u001b[1;32m-> 1448\u001b[0m \u001b[39mself\u001b[39m\u001b[39m.\u001b[39m_engine \u001b[39m=\u001b[39m \u001b[39mself\u001b[39;49m\u001b[39m.\u001b[39;49m_make_engine(f, \u001b[39mself\u001b[39;49m\u001b[39m.\u001b[39;49mengine)\n",
      "File \u001b[1;32mc:\\Python39\\lib\\site-packages\\pandas\\io\\parsers\\readers.py:1705\u001b[0m, in \u001b[0;36mTextFileReader._make_engine\u001b[1;34m(self, f, engine)\u001b[0m\n\u001b[0;32m   1703\u001b[0m     \u001b[39mif\u001b[39;00m \u001b[39m\"\u001b[39m\u001b[39mb\u001b[39m\u001b[39m\"\u001b[39m \u001b[39mnot\u001b[39;00m \u001b[39min\u001b[39;00m mode:\n\u001b[0;32m   1704\u001b[0m         mode \u001b[39m+\u001b[39m\u001b[39m=\u001b[39m \u001b[39m\"\u001b[39m\u001b[39mb\u001b[39m\u001b[39m\"\u001b[39m\n\u001b[1;32m-> 1705\u001b[0m \u001b[39mself\u001b[39m\u001b[39m.\u001b[39mhandles \u001b[39m=\u001b[39m get_handle(\n\u001b[0;32m   1706\u001b[0m     f,\n\u001b[0;32m   1707\u001b[0m     mode,\n\u001b[0;32m   1708\u001b[0m     encoding\u001b[39m=\u001b[39;49m\u001b[39mself\u001b[39;49m\u001b[39m.\u001b[39;49moptions\u001b[39m.\u001b[39;49mget(\u001b[39m\"\u001b[39;49m\u001b[39mencoding\u001b[39;49m\u001b[39m\"\u001b[39;49m, \u001b[39mNone\u001b[39;49;00m),\n\u001b[0;32m   1709\u001b[0m     compression\u001b[39m=\u001b[39;49m\u001b[39mself\u001b[39;49m\u001b[39m.\u001b[39;49moptions\u001b[39m.\u001b[39;49mget(\u001b[39m\"\u001b[39;49m\u001b[39mcompression\u001b[39;49m\u001b[39m\"\u001b[39;49m, \u001b[39mNone\u001b[39;49;00m),\n\u001b[0;32m   1710\u001b[0m     memory_map\u001b[39m=\u001b[39;49m\u001b[39mself\u001b[39;49m\u001b[39m.\u001b[39;49moptions\u001b[39m.\u001b[39;49mget(\u001b[39m\"\u001b[39;49m\u001b[39mmemory_map\u001b[39;49m\u001b[39m\"\u001b[39;49m, \u001b[39mFalse\u001b[39;49;00m),\n\u001b[0;32m   1711\u001b[0m     is_text\u001b[39m=\u001b[39;49mis_text,\n\u001b[0;32m   1712\u001b[0m     errors\u001b[39m=\u001b[39;49m\u001b[39mself\u001b[39;49m\u001b[39m.\u001b[39;49moptions\u001b[39m.\u001b[39;49mget(\u001b[39m\"\u001b[39;49m\u001b[39mencoding_errors\u001b[39;49m\u001b[39m\"\u001b[39;49m, \u001b[39m\"\u001b[39;49m\u001b[39mstrict\u001b[39;49m\u001b[39m\"\u001b[39;49m),\n\u001b[0;32m   1713\u001b[0m     storage_options\u001b[39m=\u001b[39;49m\u001b[39mself\u001b[39;49m\u001b[39m.\u001b[39;49moptions\u001b[39m.\u001b[39;49mget(\u001b[39m\"\u001b[39;49m\u001b[39mstorage_options\u001b[39;49m\u001b[39m\"\u001b[39;49m, \u001b[39mNone\u001b[39;49;00m),\n\u001b[0;32m   1714\u001b[0m )\n\u001b[0;32m   1715\u001b[0m \u001b[39massert\u001b[39;00m \u001b[39mself\u001b[39m\u001b[39m.\u001b[39mhandles \u001b[39mis\u001b[39;00m \u001b[39mnot\u001b[39;00m \u001b[39mNone\u001b[39;00m\n\u001b[0;32m   1716\u001b[0m f \u001b[39m=\u001b[39m \u001b[39mself\u001b[39m\u001b[39m.\u001b[39mhandles\u001b[39m.\u001b[39mhandle\n",
      "File \u001b[1;32mc:\\Python39\\lib\\site-packages\\pandas\\io\\common.py:863\u001b[0m, in \u001b[0;36mget_handle\u001b[1;34m(path_or_buf, mode, encoding, compression, memory_map, is_text, errors, storage_options)\u001b[0m\n\u001b[0;32m    858\u001b[0m \u001b[39melif\u001b[39;00m \u001b[39misinstance\u001b[39m(handle, \u001b[39mstr\u001b[39m):\n\u001b[0;32m    859\u001b[0m     \u001b[39m# Check whether the filename is to be opened in binary mode.\u001b[39;00m\n\u001b[0;32m    860\u001b[0m     \u001b[39m# Binary mode does not support 'encoding' and 'newline'.\u001b[39;00m\n\u001b[0;32m    861\u001b[0m     \u001b[39mif\u001b[39;00m ioargs\u001b[39m.\u001b[39mencoding \u001b[39mand\u001b[39;00m \u001b[39m\"\u001b[39m\u001b[39mb\u001b[39m\u001b[39m\"\u001b[39m \u001b[39mnot\u001b[39;00m \u001b[39min\u001b[39;00m ioargs\u001b[39m.\u001b[39mmode:\n\u001b[0;32m    862\u001b[0m         \u001b[39m# Encoding\u001b[39;00m\n\u001b[1;32m--> 863\u001b[0m         handle \u001b[39m=\u001b[39m \u001b[39mopen\u001b[39;49m(\n\u001b[0;32m    864\u001b[0m             handle,\n\u001b[0;32m    865\u001b[0m             ioargs\u001b[39m.\u001b[39;49mmode,\n\u001b[0;32m    866\u001b[0m             encoding\u001b[39m=\u001b[39;49mioargs\u001b[39m.\u001b[39;49mencoding,\n\u001b[0;32m    867\u001b[0m             errors\u001b[39m=\u001b[39;49merrors,\n\u001b[0;32m    868\u001b[0m             newline\u001b[39m=\u001b[39;49m\u001b[39m\"\u001b[39;49m\u001b[39m\"\u001b[39;49m,\n\u001b[0;32m    869\u001b[0m         )\n\u001b[0;32m    870\u001b[0m     \u001b[39melse\u001b[39;00m:\n\u001b[0;32m    871\u001b[0m         \u001b[39m# Binary mode\u001b[39;00m\n\u001b[0;32m    872\u001b[0m         handle \u001b[39m=\u001b[39m \u001b[39mopen\u001b[39m(handle, ioargs\u001b[39m.\u001b[39mmode)\n",
      "\u001b[1;31mFileNotFoundError\u001b[0m: [Errno 2] No such file or directory: './bicycle.csv'"
     ]
    }
   ],
   "source": [
    "import pandas as pd\n",
    "# 파일경로를 찾고 변수 file_path에 저장\n",
    "file_path = \"./bicycle.csv\"\n",
    "\n",
    "# read_csv() 함수로 데이터프레임 변환.\n",
    "df = pd.read_csv(file_path, encoding=\"cp949\")\n",
    "df"
   ]
  },
  {
   "cell_type": "markdown",
   "metadata": {},
   "source": []
  }
 ],
 "metadata": {
  "kernelspec": {
   "display_name": "Python 3",
   "language": "python",
   "name": "python3"
  },
  "language_info": {
   "codemirror_mode": {
    "name": "ipython",
    "version": 3
   },
   "file_extension": ".py",
   "mimetype": "text/x-python",
   "name": "python",
   "nbconvert_exporter": "python",
   "pygments_lexer": "ipython3",
   "version": "3.9.5"
  }
 },
 "nbformat": 4,
 "nbformat_minor": 2
}
